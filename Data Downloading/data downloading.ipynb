{
 "cells": [
  {
   "cell_type": "markdown",
   "id": "e2fa3f51",
   "metadata": {},
   "source": [
    "### Importing Libraries and IBM PAIRS Authentication"
   ]
  },
  {
   "cell_type": "code",
   "execution_count": 7,
   "id": "d55c51c7",
   "metadata": {},
   "outputs": [],
   "source": [
    "import pandas as pd\n",
    "from ibmpairs import paw, authentication\n",
    "import json\n",
    "import numpy\n",
    "from datetime import datetime, timedelta\n",
    "import logging\n",
    "import matplotlib.pyplot as plt\n",
    "import re\n",
    "import numpy as np"
   ]
  },
  {
   "cell_type": "code",
   "execution_count": 29,
   "id": "e57b2382",
   "metadata": {},
   "outputs": [],
   "source": [
    "logging.basicConfig(level=logging.INFO)\n",
    "pawLogger = logging.getLogger('ibmpairs.paw')\n",
    "pawLogger.setLevel(logging.INFO)"
   ]
  },
  {
   "cell_type": "code",
   "execution_count": 30,
   "id": "c14a64f6",
   "metadata": {},
   "outputs": [],
   "source": [
    "with open(\"ibmpairskey.txt\", \"r\") as f:\n",
    "    pairs_key = f.read()"
   ]
  },
  {
   "cell_type": "code",
   "execution_count": 31,
   "id": "aa393947",
   "metadata": {},
   "outputs": [],
   "source": [
    "pairs_credentials = authentication.OAuth2(api_key=pairs_key)\n",
    "auth_header = {'Authorization': f'Bearer {pairs_credentials.jwt_token}'}\n",
    "PAIRS_SERVER   = 'https://pairs.res.ibm.com'\n",
    "PAIRS_CREDENTIALS = authentication.OAuth2(api_key=pairs_key)"
   ]
  },
  {
   "cell_type": "code",
   "execution_count": 13,
   "id": "39327e19",
   "metadata": {},
   "outputs": [],
   "source": []
  },
  {
   "cell_type": "markdown",
   "id": "9f91589d",
   "metadata": {},
   "source": [
    "### Loop over dates to retrieve Sentinel-2 data "
   ]
  },
  {
   "cell_type": "code",
   "execution_count": 14,
   "id": "3da11a29",
   "metadata": {},
   "outputs": [],
   "source": [
    "rgbNirNdviLayers = {\n",
    "    'Red' : '49360',\n",
    "    'Green' : '49681',\n",
    "    'Blue' : '49680',\n",
    "    'NIR': '49361',\n",
    "    'NDVI' : '49464',\n",
    "    'SCL': '49362'\n",
    "}\n",
    "\n",
    "bbox = [\"46.94599\", \"7.68597\", \"47.20599\", \"7.94597\"] # around Bern\n",
    "\n",
    "date = None\n",
    "queryJson = {\n",
    "    'layers' : [\n",
    "        {\n",
    "            \n",
    "            'type' : 'raster', 'id' : rgbNirNdviLayers[lKey]\n",
    "            # 'temporal' : {'snapshot' : [{date}]},\n",
    "            # 'output' : False\n",
    "        }\n",
    "        for lKey in rgbNirNdviLayers\n",
    "    ],\n",
    "    \"spatial\" : {\"type\" : \"square\",  \"coordinates\" : bbox }, \n",
    "    \"temporal\" : {\"intervals\" : [{\"snapshot\" : date}]} \n",
    "}"
   ]
  },
  {
   "cell_type": "code",
   "execution_count": 15,
   "id": "49262b18",
   "metadata": {},
   "outputs": [
    {
     "name": "stdout",
     "output_type": "stream",
     "text": [
      "{'layers': [{'type': 'raster', 'id': '49360'}, {'type': 'raster', 'id': '49681'}, {'type': 'raster', 'id': '49680'}, {'type': 'raster', 'id': '49361'}, {'type': 'raster', 'id': '49464'}, {'type': 'raster', 'id': '49362'}], 'spatial': {'type': 'square', 'coordinates': ['46.94599', '7.68597', '47.20599', '7.94597']}, 'temporal': {'intervals': [{'snapshot': '2015-08-01T00:00:00Z'}]}}\n",
      "No data for this date\n",
      "{'layers': [{'type': 'raster', 'id': '49360'}, {'type': 'raster', 'id': '49681'}, {'type': 'raster', 'id': '49680'}, {'type': 'raster', 'id': '49361'}, {'type': 'raster', 'id': '49464'}, {'type': 'raster', 'id': '49362'}], 'spatial': {'type': 'square', 'coordinates': ['46.94599', '7.68597', '47.20599', '7.94597']}, 'temporal': {'intervals': [{'snapshot': '2015-08-02T00:00:00Z'}]}}\n",
      "No data for this date\n",
      "{'layers': [{'type': 'raster', 'id': '49360'}, {'type': 'raster', 'id': '49681'}, {'type': 'raster', 'id': '49680'}, {'type': 'raster', 'id': '49361'}, {'type': 'raster', 'id': '49464'}, {'type': 'raster', 'id': '49362'}], 'spatial': {'type': 'square', 'coordinates': ['46.94599', '7.68597', '47.20599', '7.94597']}, 'temporal': {'intervals': [{'snapshot': '2015-08-03T00:00:00Z'}]}}\n",
      "No data for this date\n",
      "{'layers': [{'type': 'raster', 'id': '49360'}, {'type': 'raster', 'id': '49681'}, {'type': 'raster', 'id': '49680'}, {'type': 'raster', 'id': '49361'}, {'type': 'raster', 'id': '49464'}, {'type': 'raster', 'id': '49362'}], 'spatial': {'type': 'square', 'coordinates': ['46.94599', '7.68597', '47.20599', '7.94597']}, 'temporal': {'intervals': [{'snapshot': '2015-08-04T00:00:00Z'}]}}\n",
      "No data for this date\n"
     ]
    }
   ],
   "source": [
    "from datetime import date, timedelta\n",
    "\n",
    "def daterange(start_date, end_date):\n",
    "    for n in range(int((end_date - start_date).days)):\n",
    "        yield start_date + timedelta(n)\n",
    "\n",
    "start_date = date(2015, 8, 1)\n",
    "end_date = date(2015, 8, 5)\n",
    "\n",
    "iso8601 = '%Y-%m-%dT%H:%M:%SZ'\n",
    "\n",
    "for single_date in daterange(start_date, end_date):\n",
    "    date = single_date.strftime(iso8601)\n",
    "    queryJson[\"temporal\"][\"intervals\"][0][\"snapshot\"] = date\n",
    "    \n",
    "    print(queryJson)\n",
    "    \n",
    "    try:    \n",
    "        query = paw.PAIRSQuery(queryJson, PAIRS_SERVER, PAIRS_CREDENTIALS, authType='api-key', overwriteExisting=False)\n",
    "        query.submit()\n",
    "\n",
    "        query.poll_till_finished()\n",
    "        query.download()\n",
    "        query.create_layers()\n",
    "        # Could add some data manipulation here and then save the data\n",
    "    except:\n",
    "        print('No data for this date')"
   ]
  },
  {
   "cell_type": "markdown",
   "id": "f59579ae",
   "metadata": {},
   "source": [
    "### Loop over dates to retrieve ERA-5 data "
   ]
  },
  {
   "cell_type": "code",
   "execution_count": 16,
   "id": "5d6cd5de",
   "metadata": {},
   "outputs": [],
   "source": [
    "eraLayers = {\n",
    "    'Total Prec' : '49459',\n",
    "    'SP' : '49439',\n",
    "    'Temp' : '49423',\n",
    "    'AWVC' : '49458'\n",
    "}\n",
    "\n",
    "date_start, date_end = None, None\n",
    "\n",
    "bbox = [\"46.94599\", \"7.68597\", \"47.20599\", \"7.94597\"] # around Bern\n",
    "\n",
    "\n",
    "queryJson = {\n",
    "    'layers' : [\n",
    "        {            \n",
    "            'type' : 'raster', 'id' : eraLayers[lKey],\n",
    "            \"aggregation\" : \"Mean\"\n",
    "            #\"temporal\" : {\"intervals\" : [{\"start\" : date_start, \"end\" : date_end}]} # if you put date here, need to update them in loop (for every layer)\n",
    "        }\n",
    "        for lKey in eraLayers\n",
    "    ],\n",
    "    \"spatial\" : {\"type\" : \"square\",  \"coordinates\" : bbox }, \n",
    "    \"temporal\" : {\"intervals\" : [\n",
    "      {\"start\" : date_start, \"end\" : date_end}\n",
    "  ]}\n",
    "}"
   ]
  },
  {
   "cell_type": "code",
   "execution_count": 17,
   "id": "b3bcedb5",
   "metadata": {},
   "outputs": [
    {
     "name": "stdout",
     "output_type": "stream",
     "text": [
      "{'layers': [{'type': 'raster', 'id': '49459', 'aggregation': 'Mean'}, {'type': 'raster', 'id': '49439', 'aggregation': 'Mean'}, {'type': 'raster', 'id': '49423', 'aggregation': 'Mean'}, {'type': 'raster', 'id': '49458', 'aggregation': 'Mean'}], 'spatial': {'type': 'square', 'coordinates': ['46.94599', '7.68597', '47.20599', '7.94597']}, 'temporal': {'intervals': [{'start': '2016-06-01T12:00:00Z', 'end': '2016-06-02T12:00:00Z'}]}}\n",
      "No data for this date\n",
      "{'layers': [{'type': 'raster', 'id': '49459', 'aggregation': 'Mean'}, {'type': 'raster', 'id': '49439', 'aggregation': 'Mean'}, {'type': 'raster', 'id': '49423', 'aggregation': 'Mean'}, {'type': 'raster', 'id': '49458', 'aggregation': 'Mean'}], 'spatial': {'type': 'square', 'coordinates': ['46.94599', '7.68597', '47.20599', '7.94597']}, 'temporal': {'intervals': [{'start': '2016-06-02T12:00:00Z', 'end': '2016-06-03T12:00:00Z'}]}}\n",
      "No data for this date\n",
      "{'layers': [{'type': 'raster', 'id': '49459', 'aggregation': 'Mean'}, {'type': 'raster', 'id': '49439', 'aggregation': 'Mean'}, {'type': 'raster', 'id': '49423', 'aggregation': 'Mean'}, {'type': 'raster', 'id': '49458', 'aggregation': 'Mean'}], 'spatial': {'type': 'square', 'coordinates': ['46.94599', '7.68597', '47.20599', '7.94597']}, 'temporal': {'intervals': [{'start': '2016-06-03T12:00:00Z', 'end': '2016-06-04T12:00:00Z'}]}}\n",
      "No data for this date\n",
      "{'layers': [{'type': 'raster', 'id': '49459', 'aggregation': 'Mean'}, {'type': 'raster', 'id': '49439', 'aggregation': 'Mean'}, {'type': 'raster', 'id': '49423', 'aggregation': 'Mean'}, {'type': 'raster', 'id': '49458', 'aggregation': 'Mean'}], 'spatial': {'type': 'square', 'coordinates': ['46.94599', '7.68597', '47.20599', '7.94597']}, 'temporal': {'intervals': [{'start': '2016-06-04T12:00:00Z', 'end': '2016-06-05T12:00:00Z'}]}}\n",
      "No data for this date\n",
      "{'layers': [{'type': 'raster', 'id': '49459', 'aggregation': 'Mean'}, {'type': 'raster', 'id': '49439', 'aggregation': 'Mean'}, {'type': 'raster', 'id': '49423', 'aggregation': 'Mean'}, {'type': 'raster', 'id': '49458', 'aggregation': 'Mean'}], 'spatial': {'type': 'square', 'coordinates': ['46.94599', '7.68597', '47.20599', '7.94597']}, 'temporal': {'intervals': [{'start': '2016-06-05T12:00:00Z', 'end': '2016-06-06T12:00:00Z'}]}}\n",
      "No data for this date\n",
      "{'layers': [{'type': 'raster', 'id': '49459', 'aggregation': 'Mean'}, {'type': 'raster', 'id': '49439', 'aggregation': 'Mean'}, {'type': 'raster', 'id': '49423', 'aggregation': 'Mean'}, {'type': 'raster', 'id': '49458', 'aggregation': 'Mean'}], 'spatial': {'type': 'square', 'coordinates': ['46.94599', '7.68597', '47.20599', '7.94597']}, 'temporal': {'intervals': [{'start': '2016-06-06T12:00:00Z', 'end': '2016-06-07T12:00:00Z'}]}}\n",
      "No data for this date\n",
      "{'layers': [{'type': 'raster', 'id': '49459', 'aggregation': 'Mean'}, {'type': 'raster', 'id': '49439', 'aggregation': 'Mean'}, {'type': 'raster', 'id': '49423', 'aggregation': 'Mean'}, {'type': 'raster', 'id': '49458', 'aggregation': 'Mean'}], 'spatial': {'type': 'square', 'coordinates': ['46.94599', '7.68597', '47.20599', '7.94597']}, 'temporal': {'intervals': [{'start': '2016-06-07T12:00:00Z', 'end': '2016-06-08T12:00:00Z'}]}}\n",
      "No data for this date\n",
      "{'layers': [{'type': 'raster', 'id': '49459', 'aggregation': 'Mean'}, {'type': 'raster', 'id': '49439', 'aggregation': 'Mean'}, {'type': 'raster', 'id': '49423', 'aggregation': 'Mean'}, {'type': 'raster', 'id': '49458', 'aggregation': 'Mean'}], 'spatial': {'type': 'square', 'coordinates': ['46.94599', '7.68597', '47.20599', '7.94597']}, 'temporal': {'intervals': [{'start': '2016-06-08T12:00:00Z', 'end': '2016-06-09T12:00:00Z'}]}}\n",
      "No data for this date\n",
      "{'layers': [{'type': 'raster', 'id': '49459', 'aggregation': 'Mean'}, {'type': 'raster', 'id': '49439', 'aggregation': 'Mean'}, {'type': 'raster', 'id': '49423', 'aggregation': 'Mean'}, {'type': 'raster', 'id': '49458', 'aggregation': 'Mean'}], 'spatial': {'type': 'square', 'coordinates': ['46.94599', '7.68597', '47.20599', '7.94597']}, 'temporal': {'intervals': [{'start': '2016-06-09T12:00:00Z', 'end': '2016-06-10T12:00:00Z'}]}}\n",
      "No data for this date\n",
      "{'layers': [{'type': 'raster', 'id': '49459', 'aggregation': 'Mean'}, {'type': 'raster', 'id': '49439', 'aggregation': 'Mean'}, {'type': 'raster', 'id': '49423', 'aggregation': 'Mean'}, {'type': 'raster', 'id': '49458', 'aggregation': 'Mean'}], 'spatial': {'type': 'square', 'coordinates': ['46.94599', '7.68597', '47.20599', '7.94597']}, 'temporal': {'intervals': [{'start': '2016-06-10T12:00:00Z', 'end': '2016-06-11T12:00:00Z'}]}}\n",
      "No data for this date\n",
      "{'layers': [{'type': 'raster', 'id': '49459', 'aggregation': 'Mean'}, {'type': 'raster', 'id': '49439', 'aggregation': 'Mean'}, {'type': 'raster', 'id': '49423', 'aggregation': 'Mean'}, {'type': 'raster', 'id': '49458', 'aggregation': 'Mean'}], 'spatial': {'type': 'square', 'coordinates': ['46.94599', '7.68597', '47.20599', '7.94597']}, 'temporal': {'intervals': [{'start': '2016-06-11T12:00:00Z', 'end': '2016-06-12T12:00:00Z'}]}}\n",
      "No data for this date\n",
      "{'layers': [{'type': 'raster', 'id': '49459', 'aggregation': 'Mean'}, {'type': 'raster', 'id': '49439', 'aggregation': 'Mean'}, {'type': 'raster', 'id': '49423', 'aggregation': 'Mean'}, {'type': 'raster', 'id': '49458', 'aggregation': 'Mean'}], 'spatial': {'type': 'square', 'coordinates': ['46.94599', '7.68597', '47.20599', '7.94597']}, 'temporal': {'intervals': [{'start': '2016-06-12T12:00:00Z', 'end': '2016-06-13T12:00:00Z'}]}}\n",
      "No data for this date\n",
      "{'layers': [{'type': 'raster', 'id': '49459', 'aggregation': 'Mean'}, {'type': 'raster', 'id': '49439', 'aggregation': 'Mean'}, {'type': 'raster', 'id': '49423', 'aggregation': 'Mean'}, {'type': 'raster', 'id': '49458', 'aggregation': 'Mean'}], 'spatial': {'type': 'square', 'coordinates': ['46.94599', '7.68597', '47.20599', '7.94597']}, 'temporal': {'intervals': [{'start': '2016-06-13T12:00:00Z', 'end': '2016-06-14T12:00:00Z'}]}}\n",
      "No data for this date\n"
     ]
    }
   ],
   "source": [
    "from datetime import date, datetime, timedelta\n",
    "\n",
    "def daterange(start_date, end_date):\n",
    "    for n in range(int((end_date - start_date).days)):\n",
    "        yield start_date + timedelta(n)\n",
    "\n",
    "start_date = datetime(2016, 6, 1, 12)\n",
    "end_date = datetime(2016, 6, 14, 12)\n",
    "iso8601 = '%Y-%m-%dT%H:%M:%SZ'\n",
    "\n",
    "for single_date in daterange(start_date, end_date):\n",
    "    date_start = single_date.strftime(iso8601)\n",
    "    date_end = (single_date + timedelta(1)).strftime(iso8601)\n",
    "    queryJson[\"temporal\"][\"intervals\"][0][\"start\"] = date_start\n",
    "    queryJson[\"temporal\"][\"intervals\"][0][\"end\"] = date_end    \n",
    "    print(queryJson)\n",
    "    \n",
    "    try:    \n",
    "        query = paw.PAIRSQuery(queryJson, PAIRS_SERVER, PAIRS_CREDENTIALS, authType='api-key', overwriteExisting=False)\n",
    "        query.submit()\n",
    "\n",
    "        query.poll_till_finished()\n",
    "        query.download()\n",
    "        query.create_layers()\n",
    "        # Could add some data manipulation here and then save the data\n",
    "    except:\n",
    "        print('No data for this date')"
   ]
  },
  {
   "cell_type": "markdown",
   "id": "2c4ddb33",
   "metadata": {},
   "source": [
    "### Only query ERA when Sentinel 2 is available"
   ]
  },
  {
   "cell_type": "code",
   "execution_count": 20,
   "id": "92f3531e",
   "metadata": {},
   "outputs": [],
   "source": [
    "#Layers,Dates and BBOX\n",
    "\n",
    "date_start, date_end = None, None\n",
    "bbox = [\"46.94599\", \"7.68597\", \"47.20599\", \"7.94597\"] # around Bern\n",
    "\n",
    "rgbNirNdviLayers = {\n",
    "    'Red' : '49360',\n",
    "    'Green' : '49681',\n",
    "    'Blue' : '49680',\n",
    "    'NIR': '49361',\n",
    "    'NDVI' : '49464',\n",
    "    'SCL': '49362'\n",
    "}\n",
    "\n",
    "eraLayers = {\n",
    "    'Total Prec' : '49459',\n",
    "    'SP' : '49439',\n",
    "    'Temp' : '49423',\n",
    "    'AWVC' : '49458'\n",
    "}"
   ]
  },
  {
   "cell_type": "code",
   "execution_count": 21,
   "id": "79b749e9",
   "metadata": {},
   "outputs": [],
   "source": [
    "queryEraJson = {\n",
    "    'layers' : [\n",
    "        {            \n",
    "            'type' : 'raster', 'id' : eraLayers[lKey],\n",
    "            \"aggregation\" : \"Mean\"\n",
    "            #\"temporal\" : {\"intervals\" : [{\"start\" : date_start, \"end\" : date_end}]} # if you put date here, need to update them in loop (for every layer)\n",
    "        }\n",
    "        for lKey in eraLayers\n",
    "    ],\n",
    "    \"spatial\" : {\"type\" : \"square\",  \"coordinates\" : bbox }, \n",
    "    \"temporal\" : {\"intervals\" : [\n",
    "      {\"start\" : date_start, \"end\" : date_end}\n",
    "  ]}\n",
    "}"
   ]
  },
  {
   "cell_type": "code",
   "execution_count": 22,
   "id": "8977a1cf",
   "metadata": {},
   "outputs": [],
   "source": [
    "querySentinelJson = {\n",
    "    'layers' : [\n",
    "        {\n",
    "            \n",
    "            'type' : 'raster', 'id' : rgbNirNdviLayers[lKey]\n",
    "            # 'temporal' : {'snapshot' : [{date}]},\n",
    "            # 'output' : False\n",
    "        }\n",
    "        for lKey in rgbNirNdviLayers\n",
    "    ],\n",
    "    \"spatial\" : {\"type\" : \"square\",  \"coordinates\" : bbox }, \n",
    "    \"temporal\" : {\"intervals\" : [{\"snapshot\" : date}]} \n",
    "}"
   ]
  },
  {
   "cell_type": "code",
   "execution_count": 34,
   "id": "3b2ce27c",
   "metadata": {},
   "outputs": [
    {
     "name": "stderr",
     "output_type": "stream",
     "text": [
      "INFO:ibmpairs.paw:PAIRS query JSON initialized.\n",
      "WARNING:ibmpairs.paw:Fake submit to PAIRS in order to use (latest) locally cached data.\n",
      "WARNING:ibmpairs.paw:I am sorry, you asked for using the local cache, but your query does not match any existing. I am gonna query PAIRS instead: 'list index out of range'.\n"
     ]
    },
    {
     "name": "stdout",
     "output_type": "stream",
     "text": [
      "{'layers': [{'type': 'raster', 'id': '49360'}, {'type': 'raster', 'id': '49681'}, {'type': 'raster', 'id': '49680'}, {'type': 'raster', 'id': '49361'}, {'type': 'raster', 'id': '49464'}, {'type': 'raster', 'id': '49362'}], 'spatial': {'type': 'square', 'coordinates': ['46.94599', '7.68597', '47.20599', '7.94597']}, 'temporal': {'intervals': [{'snapshot': '2016-08-01T00:00:00Z'}]}}\n"
     ]
    },
    {
     "name": "stderr",
     "output_type": "stream",
     "text": [
      "INFO:ibmpairs.paw:Query successfully submitted, reference ID: 1663560000_35135820\n",
      "INFO:ibmpairs.paw:Here we go, PAIRS query result successfully downloaded as '1663560000_35135820_461aca71893f5626c0c1561ca61ea8d7.zip'.\n",
      "INFO:ibmpairs.paw:Data acknowledgement successfully loaded, print with `self.print_data_acknowledgement()`\n",
      "INFO:ibmpairs.paw:PAIRS meta data loaded from 'output.info'.\n",
      "INFO:ibmpairs.paw:PAIRS query JSON initialized.\n",
      "WARNING:ibmpairs.paw:Fake submit to PAIRS in order to use (latest) locally cached data.\n",
      "WARNING:ibmpairs.paw:I am sorry, you asked for using the local cache, but your query does not match any existing. I am gonna query PAIRS instead: 'list index out of range'.\n"
     ]
    },
    {
     "name": "stdout",
     "output_type": "stream",
     "text": [
      "{'layers': [{'type': 'raster', 'id': '49360'}, {'type': 'raster', 'id': '49681'}, {'type': 'raster', 'id': '49680'}, {'type': 'raster', 'id': '49361'}, {'type': 'raster', 'id': '49464'}, {'type': 'raster', 'id': '49362'}], 'spatial': {'type': 'square', 'coordinates': ['46.94599', '7.68597', '47.20599', '7.94597']}, 'temporal': {'intervals': [{'snapshot': '2016-08-02T00:00:00Z'}]}}\n"
     ]
    },
    {
     "name": "stderr",
     "output_type": "stream",
     "text": [
      "INFO:ibmpairs.paw:Query successfully submitted, reference ID: 1663560000_35204245\n",
      "INFO:ibmpairs.paw:Bummer, the PAIRS query finished, but you'll never be able to download anything, status code: '21' (NoDataFound)\n",
      "INFO:ibmpairs.paw:PAIRS query JSON initialized.\n",
      "WARNING:ibmpairs.paw:Fake submit to PAIRS in order to use (latest) locally cached data.\n",
      "WARNING:ibmpairs.paw:I am sorry, you asked for using the local cache, but your query does not match any existing. I am gonna query PAIRS instead: 'list index out of range'.\n"
     ]
    },
    {
     "name": "stdout",
     "output_type": "stream",
     "text": [
      "No Sentinel-2 data for this date\n",
      "{'layers': [{'type': 'raster', 'id': '49360'}, {'type': 'raster', 'id': '49681'}, {'type': 'raster', 'id': '49680'}, {'type': 'raster', 'id': '49361'}, {'type': 'raster', 'id': '49464'}, {'type': 'raster', 'id': '49362'}], 'spatial': {'type': 'square', 'coordinates': ['46.94599', '7.68597', '47.20599', '7.94597']}, 'temporal': {'intervals': [{'snapshot': '2016-08-03T00:00:00Z'}]}}\n"
     ]
    },
    {
     "name": "stderr",
     "output_type": "stream",
     "text": [
      "INFO:ibmpairs.paw:Query successfully submitted, reference ID: 1663560000_35237290\n",
      "INFO:ibmpairs.paw:Here we go, PAIRS query result successfully downloaded as '1663560000_35237290_9a0a268ed0d7814dc328f87b6276d884.zip'.\n",
      "INFO:ibmpairs.paw:Data acknowledgement successfully loaded, print with `self.print_data_acknowledgement()`\n",
      "INFO:ibmpairs.paw:PAIRS meta data loaded from 'output.info'.\n",
      "INFO:ibmpairs.paw:PAIRS query JSON initialized.\n",
      "WARNING:ibmpairs.paw:Fake submit to PAIRS in order to use (latest) locally cached data.\n",
      "WARNING:ibmpairs.paw:I am sorry, you asked for using the local cache, but your query does not match any existing. I am gonna query PAIRS instead: 'list index out of range'.\n"
     ]
    },
    {
     "name": "stdout",
     "output_type": "stream",
     "text": [
      "{'layers': [{'type': 'raster', 'id': '49360'}, {'type': 'raster', 'id': '49681'}, {'type': 'raster', 'id': '49680'}, {'type': 'raster', 'id': '49361'}, {'type': 'raster', 'id': '49464'}, {'type': 'raster', 'id': '49362'}], 'spatial': {'type': 'square', 'coordinates': ['46.94599', '7.68597', '47.20599', '7.94597']}, 'temporal': {'intervals': [{'snapshot': '2016-08-04T00:00:00Z'}]}}\n"
     ]
    },
    {
     "name": "stderr",
     "output_type": "stream",
     "text": [
      "INFO:ibmpairs.paw:Query successfully submitted, reference ID: 1663560000_35328284\n",
      "INFO:ibmpairs.paw:Here we go, PAIRS query result successfully downloaded as '1663560000_35328284_7363481e05ad2211576e4b54e0784e9e.zip'.\n",
      "INFO:ibmpairs.paw:Data acknowledgement successfully loaded, print with `self.print_data_acknowledgement()`\n",
      "INFO:ibmpairs.paw:PAIRS meta data loaded from 'output.info'.\n",
      "INFO:ibmpairs.paw:PAIRS query JSON initialized.\n",
      "WARNING:ibmpairs.paw:Fake submit to PAIRS in order to use (latest) locally cached data.\n",
      "WARNING:ibmpairs.paw:I am sorry, you asked for using the local cache, but your query does not match any existing. I am gonna query PAIRS instead: 'list index out of range'.\n"
     ]
    },
    {
     "name": "stdout",
     "output_type": "stream",
     "text": [
      "{'layers': [{'type': 'raster', 'id': '49360'}, {'type': 'raster', 'id': '49681'}, {'type': 'raster', 'id': '49680'}, {'type': 'raster', 'id': '49361'}, {'type': 'raster', 'id': '49464'}, {'type': 'raster', 'id': '49362'}], 'spatial': {'type': 'square', 'coordinates': ['46.94599', '7.68597', '47.20599', '7.94597']}, 'temporal': {'intervals': [{'snapshot': '2016-08-05T00:00:00Z'}]}}\n"
     ]
    },
    {
     "name": "stderr",
     "output_type": "stream",
     "text": [
      "INFO:ibmpairs.paw:Query successfully submitted, reference ID: 1663560000_35404408\n",
      "INFO:ibmpairs.paw:Bummer, the PAIRS query finished, but you'll never be able to download anything, status code: '21' (NoDataFound)\n",
      "INFO:ibmpairs.paw:PAIRS query JSON initialized.\n",
      "WARNING:ibmpairs.paw:Fake submit to PAIRS in order to use (latest) locally cached data.\n",
      "WARNING:ibmpairs.paw:I am sorry, you asked for using the local cache, but your query does not match any existing. I am gonna query PAIRS instead: 'list index out of range'.\n"
     ]
    },
    {
     "name": "stdout",
     "output_type": "stream",
     "text": [
      "No Sentinel-2 data for this date\n",
      "{'layers': [{'type': 'raster', 'id': '49360'}, {'type': 'raster', 'id': '49681'}, {'type': 'raster', 'id': '49680'}, {'type': 'raster', 'id': '49361'}, {'type': 'raster', 'id': '49464'}, {'type': 'raster', 'id': '49362'}], 'spatial': {'type': 'square', 'coordinates': ['46.94599', '7.68597', '47.20599', '7.94597']}, 'temporal': {'intervals': [{'snapshot': '2016-08-06T00:00:00Z'}]}}\n"
     ]
    },
    {
     "name": "stderr",
     "output_type": "stream",
     "text": [
      "INFO:ibmpairs.paw:Query successfully submitted, reference ID: 1663560000_35448022\n",
      "INFO:ibmpairs.paw:Bummer, the PAIRS query finished, but you'll never be able to download anything, status code: '21' (NoDataFound)\n",
      "INFO:ibmpairs.paw:PAIRS query JSON initialized.\n",
      "WARNING:ibmpairs.paw:Fake submit to PAIRS in order to use (latest) locally cached data.\n",
      "WARNING:ibmpairs.paw:I am sorry, you asked for using the local cache, but your query does not match any existing. I am gonna query PAIRS instead: 'list index out of range'.\n"
     ]
    },
    {
     "name": "stdout",
     "output_type": "stream",
     "text": [
      "No Sentinel-2 data for this date\n",
      "{'layers': [{'type': 'raster', 'id': '49360'}, {'type': 'raster', 'id': '49681'}, {'type': 'raster', 'id': '49680'}, {'type': 'raster', 'id': '49361'}, {'type': 'raster', 'id': '49464'}, {'type': 'raster', 'id': '49362'}], 'spatial': {'type': 'square', 'coordinates': ['46.94599', '7.68597', '47.20599', '7.94597']}, 'temporal': {'intervals': [{'snapshot': '2016-08-07T00:00:00Z'}]}}\n"
     ]
    },
    {
     "name": "stderr",
     "output_type": "stream",
     "text": [
      "INFO:ibmpairs.paw:Query successfully submitted, reference ID: 1663560000_35481008\n",
      "INFO:ibmpairs.paw:Bummer, the PAIRS query finished, but you'll never be able to download anything, status code: '21' (NoDataFound)\n",
      "INFO:ibmpairs.paw:PAIRS query JSON initialized.\n",
      "WARNING:ibmpairs.paw:Fake submit to PAIRS in order to use (latest) locally cached data.\n",
      "WARNING:ibmpairs.paw:I am sorry, you asked for using the local cache, but your query does not match any existing. I am gonna query PAIRS instead: 'list index out of range'.\n"
     ]
    },
    {
     "name": "stdout",
     "output_type": "stream",
     "text": [
      "No Sentinel-2 data for this date\n",
      "{'layers': [{'type': 'raster', 'id': '49360'}, {'type': 'raster', 'id': '49681'}, {'type': 'raster', 'id': '49680'}, {'type': 'raster', 'id': '49361'}, {'type': 'raster', 'id': '49464'}, {'type': 'raster', 'id': '49362'}], 'spatial': {'type': 'square', 'coordinates': ['46.94599', '7.68597', '47.20599', '7.94597']}, 'temporal': {'intervals': [{'snapshot': '2016-08-08T00:00:00Z'}]}}\n"
     ]
    },
    {
     "name": "stderr",
     "output_type": "stream",
     "text": [
      "INFO:ibmpairs.paw:Query successfully submitted, reference ID: 1663560000_35514193\n",
      "INFO:ibmpairs.paw:Bummer, the PAIRS query finished, but you'll never be able to download anything, status code: '21' (NoDataFound)\n",
      "INFO:ibmpairs.paw:PAIRS query JSON initialized.\n",
      "WARNING:ibmpairs.paw:Fake submit to PAIRS in order to use (latest) locally cached data.\n",
      "WARNING:ibmpairs.paw:I am sorry, you asked for using the local cache, but your query does not match any existing. I am gonna query PAIRS instead: 'list index out of range'.\n"
     ]
    },
    {
     "name": "stdout",
     "output_type": "stream",
     "text": [
      "No Sentinel-2 data for this date\n",
      "{'layers': [{'type': 'raster', 'id': '49360'}, {'type': 'raster', 'id': '49681'}, {'type': 'raster', 'id': '49680'}, {'type': 'raster', 'id': '49361'}, {'type': 'raster', 'id': '49464'}, {'type': 'raster', 'id': '49362'}], 'spatial': {'type': 'square', 'coordinates': ['46.94599', '7.68597', '47.20599', '7.94597']}, 'temporal': {'intervals': [{'snapshot': '2016-08-09T00:00:00Z'}]}}\n"
     ]
    },
    {
     "name": "stderr",
     "output_type": "stream",
     "text": [
      "INFO:ibmpairs.paw:Query successfully submitted, reference ID: 1663560000_35547215\n",
      "INFO:ibmpairs.paw:Bummer, the PAIRS query finished, but you'll never be able to download anything, status code: '21' (NoDataFound)\n",
      "INFO:ibmpairs.paw:PAIRS query JSON initialized.\n",
      "WARNING:ibmpairs.paw:Fake submit to PAIRS in order to use (latest) locally cached data.\n",
      "WARNING:ibmpairs.paw:I am sorry, you asked for using the local cache, but your query does not match any existing. I am gonna query PAIRS instead: 'list index out of range'.\n"
     ]
    },
    {
     "name": "stdout",
     "output_type": "stream",
     "text": [
      "No Sentinel-2 data for this date\n",
      "{'layers': [{'type': 'raster', 'id': '49360'}, {'type': 'raster', 'id': '49681'}, {'type': 'raster', 'id': '49680'}, {'type': 'raster', 'id': '49361'}, {'type': 'raster', 'id': '49464'}, {'type': 'raster', 'id': '49362'}], 'spatial': {'type': 'square', 'coordinates': ['46.94599', '7.68597', '47.20599', '7.94597']}, 'temporal': {'intervals': [{'snapshot': '2016-08-10T00:00:00Z'}]}}\n"
     ]
    },
    {
     "name": "stderr",
     "output_type": "stream",
     "text": [
      "INFO:ibmpairs.paw:Query successfully submitted, reference ID: 1663560000_35580260\n",
      "INFO:ibmpairs.paw:Here we go, PAIRS query result successfully downloaded as '1663560000_35580260_bb47707e242a819ac76b824b1e8c6070.zip'.\n",
      "INFO:ibmpairs.paw:Data acknowledgement successfully loaded, print with `self.print_data_acknowledgement()`\n",
      "INFO:ibmpairs.paw:PAIRS meta data loaded from 'output.info'.\n",
      "INFO:ibmpairs.paw:PAIRS query JSON initialized.\n",
      "WARNING:ibmpairs.paw:Fake submit to PAIRS in order to use (latest) locally cached data.\n",
      "WARNING:ibmpairs.paw:I am sorry, you asked for using the local cache, but your query does not match any existing. I am gonna query PAIRS instead: 'list index out of range'.\n"
     ]
    },
    {
     "name": "stdout",
     "output_type": "stream",
     "text": [
      "{'layers': [{'type': 'raster', 'id': '49360'}, {'type': 'raster', 'id': '49681'}, {'type': 'raster', 'id': '49680'}, {'type': 'raster', 'id': '49361'}, {'type': 'raster', 'id': '49464'}, {'type': 'raster', 'id': '49362'}], 'spatial': {'type': 'square', 'coordinates': ['46.94599', '7.68597', '47.20599', '7.94597']}, 'temporal': {'intervals': [{'snapshot': '2016-08-11T00:00:00Z'}]}}\n"
     ]
    },
    {
     "name": "stderr",
     "output_type": "stream",
     "text": [
      "INFO:ibmpairs.paw:Query successfully submitted, reference ID: 1663560000_35653976\n",
      "INFO:ibmpairs.paw:Bummer, the PAIRS query finished, but you'll never be able to download anything, status code: '21' (NoDataFound)\n",
      "INFO:ibmpairs.paw:PAIRS query JSON initialized.\n",
      "WARNING:ibmpairs.paw:Fake submit to PAIRS in order to use (latest) locally cached data.\n",
      "WARNING:ibmpairs.paw:I am sorry, you asked for using the local cache, but your query does not match any existing. I am gonna query PAIRS instead: 'list index out of range'.\n"
     ]
    },
    {
     "name": "stdout",
     "output_type": "stream",
     "text": [
      "No Sentinel-2 data for this date\n",
      "{'layers': [{'type': 'raster', 'id': '49360'}, {'type': 'raster', 'id': '49681'}, {'type': 'raster', 'id': '49680'}, {'type': 'raster', 'id': '49361'}, {'type': 'raster', 'id': '49464'}, {'type': 'raster', 'id': '49362'}], 'spatial': {'type': 'square', 'coordinates': ['46.94599', '7.68597', '47.20599', '7.94597']}, 'temporal': {'intervals': [{'snapshot': '2016-08-12T00:00:00Z'}]}}\n"
     ]
    },
    {
     "name": "stderr",
     "output_type": "stream",
     "text": [
      "INFO:ibmpairs.paw:Query successfully submitted, reference ID: 1663560000_35687169\n",
      "INFO:ibmpairs.paw:Bummer, the PAIRS query finished, but you'll never be able to download anything, status code: '21' (NoDataFound)\n",
      "INFO:ibmpairs.paw:PAIRS query JSON initialized.\n",
      "WARNING:ibmpairs.paw:Fake submit to PAIRS in order to use (latest) locally cached data.\n",
      "WARNING:ibmpairs.paw:I am sorry, you asked for using the local cache, but your query does not match any existing. I am gonna query PAIRS instead: 'list index out of range'.\n"
     ]
    },
    {
     "name": "stdout",
     "output_type": "stream",
     "text": [
      "No Sentinel-2 data for this date\n",
      "{'layers': [{'type': 'raster', 'id': '49360'}, {'type': 'raster', 'id': '49681'}, {'type': 'raster', 'id': '49680'}, {'type': 'raster', 'id': '49361'}, {'type': 'raster', 'id': '49464'}, {'type': 'raster', 'id': '49362'}], 'spatial': {'type': 'square', 'coordinates': ['46.94599', '7.68597', '47.20599', '7.94597']}, 'temporal': {'intervals': [{'snapshot': '2016-08-13T00:00:00Z'}]}}\n"
     ]
    },
    {
     "name": "stderr",
     "output_type": "stream",
     "text": [
      "INFO:ibmpairs.paw:Query successfully submitted, reference ID: 1663560000_35720178\n",
      "INFO:ibmpairs.paw:Here we go, PAIRS query result successfully downloaded as '1663560000_35720178_904797b6a0ed797a65d3b719dfb75de3.zip'.\n",
      "INFO:ibmpairs.paw:Data acknowledgement successfully loaded, print with `self.print_data_acknowledgement()`\n",
      "INFO:ibmpairs.paw:PAIRS meta data loaded from 'output.info'.\n"
     ]
    }
   ],
   "source": [
    "from datetime import date, timedelta\n",
    "\n",
    "def daterange(start_date, end_date):\n",
    "    for n in range(int((end_date - start_date).days)):\n",
    "        yield start_date + timedelta(n)\n",
    "\n",
    "start_date = date(2016, 8, 1)\n",
    "end_date = date(2016, 8, 14)\n",
    "\n",
    "iso8601 = '%Y-%m-%dT%H:%M:%SZ'\n",
    "\n",
    "for single_date in daterange(start_date, end_date):\n",
    "    \n",
    "    # Try Sentinel 2 first\n",
    "    \n",
    "    date = single_date.strftime(iso8601)\n",
    "    querySentinelJson[\"temporal\"][\"intervals\"][0][\"snapshot\"] = date\n",
    "    print(querySentinelJson)\n",
    "    sentinel_check = 0 # to check if there is Sentinel 2 data for this date or not\n",
    "    \n",
    "    try:    \n",
    "        query = paw.PAIRSQuery(querySentinelJson, PAIRS_SERVER, PAIRS_CREDENTIALS, authType='api-key', overwriteExisting=False)\n",
    "        query.submit()\n",
    "        \n",
    "        query.poll_till_finished()\n",
    "        query.download()\n",
    "        query.create_layers()\n",
    "        # Could add some data manipulation here and then save the data\n",
    "        sentinel_check = 1\n",
    "    except:\n",
    "        print('No Sentinel-2 data for this date')\n",
    "        \n",
    "    \n",
    "    if sentinel_check:\n",
    "        # Now download ERA 5 for dates of Sentinel 2\n",
    "        date_start = single_date.strftime(iso8601)\n",
    "        date_end = (single_date + timedelta(1)).strftime(iso8601)\n",
    "        queryJson_era[\"temporal\"][\"intervals\"][0][\"start\"] = date_start\n",
    "        queryJson_era[\"temporal\"][\"intervals\"][0][\"end\"] = date_end    \n",
    "        #print(queryJson_era)\n",
    "\n",
    "        try:    \n",
    "            query = paw.PAIRSQuery(queryEraJson, PAIRS_SERVER, PAIRS_CREDENTIALS, authType='api-key', overwriteExisting=False)\n",
    "            query.submit()\n",
    "\n",
    "            query.poll_till_finished()\n",
    "            query.download()\n",
    "            query.create_layers()\n",
    "            # Could add some data manipulation here and then save the data\n",
    "        except:\n",
    "            print('No ERA 5 data for this date')\n",
    "    \n",
    "    \n",
    "        "
   ]
  },
  {
   "cell_type": "code",
   "execution_count": null,
   "id": "b0f6f071",
   "metadata": {},
   "outputs": [],
   "source": []
  }
 ],
 "metadata": {
  "kernelspec": {
   "display_name": "Python 3 (ipykernel)",
   "language": "python",
   "name": "python3"
  },
  "language_info": {
   "codemirror_mode": {
    "name": "ipython",
    "version": 3
   },
   "file_extension": ".py",
   "mimetype": "text/x-python",
   "name": "python",
   "nbconvert_exporter": "python",
   "pygments_lexer": "ipython3",
   "version": "3.10.6"
  }
 },
 "nbformat": 4,
 "nbformat_minor": 5
}
