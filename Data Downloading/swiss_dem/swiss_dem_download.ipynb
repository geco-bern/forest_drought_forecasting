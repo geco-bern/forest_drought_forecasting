{
 "cells": [
  {
   "cell_type": "markdown",
   "id": "e3444ac2-9bed-416f-89cd-08f0c540e8b6",
   "metadata": {},
   "source": [
    "# swissALTI3D DEM Downloading"
   ]
  },
  {
   "cell_type": "code",
   "execution_count": 1,
   "id": "1d1806ec-5291-4430-8ebb-1dc7339e1d3e",
   "metadata": {},
   "outputs": [],
   "source": [
    "import requests\n",
    "from PIL import Image\n",
    "import pandas as pd"
   ]
  },
  {
   "cell_type": "markdown",
   "id": "559b7fbf-e998-43c7-ab60-ab54703d443d",
   "metadata": {},
   "source": [
    "### Define some variables and paths\n",
    "Create a text file containing the links of the tif files that need to be downloaded\\\n",
    "Copy them from this webpage: https://www.swisstopo.admin.ch/fr/geodata/height/alti3d.html"
   ]
  },
  {
   "cell_type": "code",
   "execution_count": 2,
   "id": "a3729435-f8de-4e9d-b006-a43d3f095993",
   "metadata": {},
   "outputs": [],
   "source": [
    "URLS_PATH = 'urls_test.txt'\n",
    "DOWNLOADS_PATH = 'downloads/dem/'"
   ]
  },
  {
   "cell_type": "markdown",
   "id": "00ab7de1-e3f7-4d3c-a9d4-a3d44ed8d72d",
   "metadata": {},
   "source": [
    "### Check size of data (number of tiles to downlad)"
   ]
  },
  {
   "cell_type": "code",
   "execution_count": 10,
   "id": "0875878b-319e-40ec-b6f8-c9b645db5ee3",
   "metadata": {},
   "outputs": [
    {
     "data": {
      "text/plain": [
       "43581"
      ]
     },
     "execution_count": 10,
     "metadata": {},
     "output_type": "execute_result"
    }
   ],
   "source": [
    "URLS_PATH = 'urls_all.txt'\n",
    "\n",
    "data = pd.read_csv(URLS_PATH, header=None)\n",
    "data.columns = [\"Link\"]\n",
    "data.shape[0]"
   ]
  },
  {
   "cell_type": "code",
   "execution_count": 11,
   "id": "de5d1915-12d4-481d-9b9b-58621609419c",
   "metadata": {},
   "outputs": [
    {
     "data": {
      "text/plain": [
       "43581"
      ]
     },
     "execution_count": 11,
     "metadata": {},
     "output_type": "execute_result"
    }
   ],
   "source": [
    "URLS_PATH = 'urls_all_2m.txt'\n",
    "\n",
    "data = pd.read_csv(URLS_PATH, header=None)\n",
    "data.columns = [\"Link\"]\n",
    "data.shape[0]"
   ]
  },
  {
   "cell_type": "markdown",
   "id": "b044767c-a30b-4bef-a22e-e4d57fc69c2b",
   "metadata": {},
   "source": [
    "### Download data"
   ]
  },
  {
   "cell_type": "code",
   "execution_count": 3,
   "id": "6658aa34-86a2-4c56-9de9-c383419ed7cb",
   "metadata": {},
   "outputs": [
    {
     "name": "stdout",
     "output_type": "stream",
     "text": [
      "https://data.geo.admin.ch/ch.swisstopo.swissalti3d/swissalti3d_2021_2486-1117/swissalti3d_2021_2486-1117_0.5_2056_5728.tif\n",
      "swissalti3d_2021_2486-1117_0.5_2056_5728.tif\n",
      "Download successful\n",
      "https://data.geo.admin.ch/ch.swisstopo.swissalti3d/swissalti3d_2021_2486-1118/swissalti3d_2021_2486-1118_0.5_2056_5728.tif\n",
      "swissalti3d_2021_2486-1118_0.5_2056_5728.tif\n",
      "Download successful\n",
      "https://data.geo.admin.ch/ch.swisstopo.swissalti3d/swissalti3d_2021_2486-1119/swissalti3d_2021_2486-1119_0.5_2056_5728.tif\n",
      "swissalti3d_2021_2486-1119_0.5_2056_5728.tif\n",
      "Download successful\n",
      "https://data.geo.admin.ch/ch.swisstopo.swissalti3d/swissalti3d_2021_2487-1110/swissalti3d_2021_2487-1110_0.5_2056_5728.tif\n",
      "swissalti3d_2021_2487-1110_0.5_2056_5728.tif\n",
      "Download successful\n",
      "https://data.geo.admin.ch/ch.swisstopo.swissalti3d/swissalti3d_2021_2487-1111/swissalti3d_2021_2487-1111_0.5_2056_5728.tif\n",
      "swissalti3d_2021_2487-1111_0.5_2056_5728.tif\n",
      "Download successful\n",
      "https://data.geo.admin.ch/ch.swisstopo.swissalti3d/swissalti3d_2021_2487-1112/swissalti3d_2021_2487-1112_0.5_2056_5728.tif\n",
      "swissalti3d_2021_2487-1112_0.5_2056_5728.tif\n",
      "Download successful\n",
      "https://data.geo.admin.ch/ch.swisstopo.swissalti3d/swissalti3d_2021_2487-1113/swissalti3d_2021_2487-1113_0.5_2056_5728.tif\n",
      "swissalti3d_2021_2487-1113_0.5_2056_5728.tif\n",
      "Download successful\n"
     ]
    }
   ],
   "source": [
    "data = pd.read_csv(URLS_PATH, header=None)\n",
    "data.columns = [\"link\"]\n",
    "for idx, row in data.iterrows():\n",
    "    url = row[\"link\"]\n",
    "    print(url)\n",
    "    name = url.split('/')[-1].split('\\n')[0]\n",
    "    print(name)\n",
    "    r = requests.get(url)\n",
    "    print('Download successful')\n",
    "    open(DOWNLOADS_PATH + name, \"wb\").write(r.content)"
   ]
  },
  {
   "cell_type": "markdown",
   "id": "7ec1d0db-b414-42e3-9a9e-472ddb195eba",
   "metadata": {},
   "source": [
    "data = pd.read_csv(URLS_PATH, header=None)\n",
    "data.columns = [\"link\"]\n",
    "for idx, row in data.iterrows():\n",
    "    url = row[\"link\"]\n",
    "    print(url)\n",
    "    name = url.split('/')[-1].split('\\n')[0]\n",
    "    print(name)\n",
    "    r = requests.get(url)\n",
    "    print('Download successful')\n",
    "    open(DOWNLOADS_PATH + name, \"wb\").write(r.content)### Download a 2m resolution tile"
   ]
  },
  {
   "cell_type": "code",
   "execution_count": 12,
   "id": "a61d18aa-1f66-49a6-a8a8-ac59a44c8b43",
   "metadata": {},
   "outputs": [
    {
     "name": "stdout",
     "output_type": "stream",
     "text": [
      "https://data.geo.admin.ch/ch.swisstopo.swissalti3d/swissalti3d_2019_2501-1120/swissalti3d_2019_2501-1120_2_2056_5728.tif\n",
      "swissalti3d_2019_2501-1120_2_2056_5728.tif\n",
      "Download successful\n"
     ]
    }
   ],
   "source": [
    "data = pd.read_csv(URLS_PATH, header=None)\n",
    "data.columns = [\"link\"]\n",
    "for idx, row in data.iterrows():\n",
    "    url = row[\"link\"]\n",
    "    print(url)\n",
    "    name = url.split('/')[-1].split('\\n')[0]\n",
    "    print(name)\n",
    "    r = requests.get(url)\n",
    "    print('Download successful')\n",
    "    open(DOWNLOADS_PATH + name, \"wb\").write(r.content)\n",
    "    break"
   ]
  },
  {
   "cell_type": "markdown",
   "id": "11ffaeac-bfde-4a7a-aaa4-9410a72b0195",
   "metadata": {},
   "source": [
    "### Other methods \n",
    "Don't seem to work: only last tif link will download correctly. Other tifs cannot be opened"
   ]
  },
  {
   "cell_type": "code",
   "execution_count": null,
   "id": "78b63bd0-7e41-4dc0-bbcb-6981ec90de70",
   "metadata": {
    "tags": []
   },
   "outputs": [],
   "source": [
    "with open(URLS_PATH, 'r') as f:\n",
    "    for url in f.readlines():\n",
    "        print(url.split('\\n')[0])\n",
    "        r = requests.get(url) # request\n",
    "        print(r.headers.get('content-type'))\n",
    "        \"\"\"\n",
    "        name = url.split('/')[-1].split('\\n')[0]\n",
    "        print(DOWNLOADS_PATH + name)\n",
    "        open(DOWNLOADS_PATH + name, \"wb\").write(r.content) # download\n",
    "        print('Download successful\\n')\n",
    "        \n",
    "        #im = Image.open(DOWNLOADS_PATH + name)\n",
    "        #im.show()\n",
    "        \"\"\""
   ]
  },
  {
   "cell_type": "code",
   "execution_count": null,
   "id": "eb748f91-a2c6-4e31-bec8-d290c504dfde",
   "metadata": {},
   "outputs": [],
   "source": [
    "with open(URLS_PATH, 'r') as f:\n",
    "    for url in f.readlines():\n",
    "        name = url.split('/')[-1].split('\\n')[0]\n",
    "        with open(DOWNLOADS_PATH + name, 'wb') as f:\n",
    "            r = requests.get(url) # request\n",
    "            for data in r.iter_content(1024):\n",
    "                f.write(data)"
   ]
  },
  {
   "cell_type": "code",
   "execution_count": null,
   "id": "8af31ca0-4440-4aed-833a-f497f96f587e",
   "metadata": {},
   "outputs": [],
   "source": [
    "# Just checking if the name is correclty extracted\n",
    "from os import listdir\n",
    "for f in listdir('downloads/dem/'):\n",
    "    file_string = \"'\" + f + \"'\"\n",
    "    print(file_string)\n",
    "    print(name)\n",
    "    if f == name:\n",
    "        print('match')"
   ]
  }
 ],
 "metadata": {
  "kernelspec": {
   "display_name": "drought",
   "language": "python",
   "name": "drought"
  },
  "language_info": {
   "codemirror_mode": {
    "name": "ipython",
    "version": 3
   },
   "file_extension": ".py",
   "mimetype": "text/x-python",
   "name": "python",
   "nbconvert_exporter": "python",
   "pygments_lexer": "ipython3",
   "version": "3.8.13"
  }
 },
 "nbformat": 4,
 "nbformat_minor": 5
}
