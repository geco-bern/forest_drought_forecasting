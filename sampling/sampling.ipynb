{
 "cells": [
  {
   "cell_type": "markdown",
   "id": "5c93f1ba-43c3-4c99-8570-b064167f28c4",
   "metadata": {},
   "source": [
    "# Sampling scenes in Switzerland\n",
    "- Rasterise forest \n",
    "    - along a grid of resolution 1 km? 2.56 km/1.28km?\n",
    "    - calculate % coverage in forest\n",
    "    - align grid to Sentinel?\n",
    "    \n",
    "- Keep cells > 40% forest\n",
    "- Save central coordinate to txt file"
   ]
  },
  {
   "cell_type": "code",
   "execution_count": 1,
   "id": "1e3ba155-6218-4884-86aa-268146a98ec8",
   "metadata": {},
   "outputs": [],
   "source": [
    "from rasterise import *"
   ]
  },
  {
   "cell_type": "markdown",
   "id": "4cc5a691-a230-4c4a-87cc-e8c4bcc0583d",
   "metadata": {},
   "source": [
    "## 1. Rasterise shapefile, forest mask (1m resolution, EPSG 2056)"
   ]
  },
  {
   "cell_type": "code",
   "execution_count": null,
   "id": "50e273af-241a-49a5-bd7e-ac093a715e9c",
   "metadata": {},
   "outputs": [],
   "source": [
    "# Define the input shapefile path\n",
    "shapefile_path = '/Users/led/Desktop/Master_Thesis/Data/original_data/forest_mask_ch/ID164.23_Waldmaske_LV95/ForestMask_hull_LV95_20171127.shp'\n",
    "# Define the output raster path\n",
    "output_raster_path = '/Users/led/Desktop/test_raster.tif'\n",
    "# Define the pixel size in meters\n",
    "pixel_size = 1 \n",
    "\n",
    "rasterise_shapefile(shapefile_path,output_raster_path, pixel_size)"
   ]
  },
  {
   "cell_type": "markdown",
   "id": "b470f84e-ee1f-4f71-a9e9-c85d6621c835",
   "metadata": {},
   "source": [
    "## 1. Rasterise while reprojecting"
   ]
  },
  {
   "cell_type": "code",
   "execution_count": null,
   "id": "e425da2a-a713-4edd-83f4-fc7e3c53c5fa",
   "metadata": {},
   "outputs": [],
   "source": [
    "# Define the input shapefile path\n",
    "shapefile_path = '/Users/led/Desktop/Master_Thesis/Data/original_data/forest_mask_ch/ID164.23_Waldmaske_LV95/ForestMask_hull_LV95_20171127.shp'\n",
    "# Define the output raster path\n",
    "output_raster_path = '/Users/led/Desktop/sampling_rasters/test_raster_reproj.tif'\n",
    "# Define the pixel size in meters\n",
    "pixel_size = 1 # TO PUT IN DEGREES EPSG 4326\n",
    "# Define the target CRS in Well-Known Text (WKT) format\n",
    "target_crs = 'EPSG:4326'\n",
    "\n",
    "rasterise_reproject_shapefile(shapefile_path,output_raster_path, pixel_size, target_crs)"
   ]
  },
  {
   "cell_type": "markdown",
   "id": "4b6afeed-fe37-4dc1-88f9-557fcca48bc6",
   "metadata": {},
   "source": [
    "## 2. Upsample (continuous value)"
   ]
  },
  {
   "cell_type": "code",
   "execution_count": null,
   "id": "4aca6ec9-33a9-4fc2-904c-2298fa3020bb",
   "metadata": {},
   "outputs": [],
   "source": [
    "# Define the input raster path at 1m resolution\n",
    "input_raster_path = '/Users/led/Desktop/test_raster.tif'\n",
    "# Define the output raster path\n",
    "output_raster_path = '/Users/led/Desktop/test_raster_20.tif'\n",
    "# Define the desired resolution in meters\n",
    "new_pixel_size = 20\n",
    "\n",
    "upsample_sum_raster(input_raster_path, output_raster_path, new_pixel_size)"
   ]
  },
  {
   "cell_type": "markdown",
   "id": "01ab5279-1087-491e-ac2a-bae95e391a88",
   "metadata": {},
   "source": [
    "## 3. Reproject + normalise"
   ]
  },
  {
   "cell_type": "code",
   "execution_count": null,
   "id": "ab3c9349-ae91-4e57-859d-f49232380b6a",
   "metadata": {},
   "outputs": [],
   "source": [
    "# Define the input raster path\n",
    "input_raster_path = '/Users/led/Desktop/sampling_rasters/test_raster.tif' #'/Users/led/Desktop/test_raster_256.tif' #'/Users/led/Desktop/test_raster_20.tif'\n",
    "# Define the output raster path\n",
    "output_raster_path = '/Users/led/Desktop/sampling_rasters/test_raster_reproj.tif'#'/Users/led/Desktop/test_raster_256_reproj.tif' #'/Users/led/Desktop/test_raster_20_reproj.tif'\n",
    "# Define the target CRS as an EPSG code\n",
    "target_crs = 'EPSG:4326'"
   ]
  },
  {
   "cell_type": "code",
   "execution_count": null,
   "id": "1fe8df6c-8895-4708-96a7-4f1028920034",
   "metadata": {},
   "outputs": [],
   "source": [
    "reproject_normalise_raster(input_raster_path, output_raster_path, target_crs)"
   ]
  },
  {
   "cell_type": "markdown",
   "id": "dfa61695-b837-47d2-aa9c-8c5b1112ece7",
   "metadata": {},
   "source": [
    "## 2. Combine upsampling, reprojecting, normalising"
   ]
  },
  {
   "cell_type": "code",
   "execution_count": 2,
   "id": "a9892255-28ca-4c4b-a1d1-0a8985c49094",
   "metadata": {},
   "outputs": [],
   "source": [
    "# Define the input raster path\n",
    "input_raster_path = '/Users/led/Desktop/sampling_rasters/forest_mask.tif'\n",
    "# Define the output raster path\n",
    "output_raster_path = '/Users/led/Desktop/forest_mask_256_reproj.tif'\n",
    "# Define the target CRS as an EPSG code\n",
    "target_crs = 'EPSG:4326'\n",
    "# Define the desired pixel size in FINAL CRS (degrees)\n",
    "new_pixel_size_x = 0.033\n",
    "new_pixel_size_y = 0.02304 \n",
    "\n",
    "# (x,y) 20m: 0.00024067, 0.00018\n",
    "# 2.56km:  0.033, 0.02304"
   ]
  },
  {
   "cell_type": "code",
   "execution_count": null,
   "id": "e0d762fa-7602-4700-93d9-b5a97a5b32ae",
   "metadata": {
    "tags": []
   },
   "outputs": [],
   "source": [
    "upsample_reproject_normalise_raster(input_raster_path, output_raster_path, target_crs, new_pixel_size_x, new_pixel_size_y)"
   ]
  },
  {
   "cell_type": "code",
   "execution_count": null,
   "id": "a73f0e2f-7669-44e8-bce2-ef05ef268674",
   "metadata": {},
   "outputs": [],
   "source": []
  },
  {
   "cell_type": "markdown",
   "id": "4ea18e41-0405-4877-8d75-04a20286dee8",
   "metadata": {},
   "source": [
    "# Rasterise kml polygons\n",
    "TODO: need to align to forest mask (reprojected) bounds when rasterising"
   ]
  },
  {
   "cell_type": "code",
   "execution_count": null,
   "id": "ccedbd60-0ff2-4589-965c-72252c52a848",
   "metadata": {},
   "outputs": [],
   "source": [
    "import os\n",
    "from osgeo import ogr, gdal\n",
    "from rasterise import *"
   ]
  },
  {
   "cell_type": "code",
   "execution_count": null,
   "id": "d671cbf5-4325-4d0b-aba8-e939adc41332",
   "metadata": {},
   "outputs": [],
   "source": [
    "input_kml_file = \"/Users/led/Desktop/Master_Thesis/Data/Brun/brown_polys_2.kml\"\n",
    "output_raster_file = \"/Users/led/Desktop/sampling_rasters/polys_brun.tif\"\n",
    "forest_mask = '/Users/led/Desktop/sampling_rasters/forest_mask_reproj.tif'"
   ]
  },
  {
   "cell_type": "code",
   "execution_count": null,
   "id": "e616fd55-4506-4065-abd0-01e9791daddc",
   "metadata": {},
   "outputs": [],
   "source": [
    "rasterise_kml_to_existing_raster(input_kml_file, output_raster_file, forest_mask)"
   ]
  },
  {
   "cell_type": "markdown",
   "id": "121b9397-fb5e-4d0f-98b9-8862bb6c0ffe",
   "metadata": {},
   "source": [
    "### Upsample to 2.56km"
   ]
  },
  {
   "cell_type": "code",
   "execution_count": null,
   "id": "53a4ddf6-4ce5-4051-b390-9862657b3787",
   "metadata": {},
   "outputs": [],
   "source": [
    "input_raster_path = \"/Users/led/Desktop/sampling_rasters/polys_brun.tif\"\n",
    "output_raster_path = \"/Users/led/Desktop/sampling_rasters/polys_brun_256.tif\"\n",
    "new_pixel_size_x = 0.033\n",
    "new_pixel_size_y = 0.02304"
   ]
  },
  {
   "cell_type": "raw",
   "id": "a87ad3f6-73c4-432f-a918-c604f780b2c6",
   "metadata": {},
   "source": [
    "upsample_normalise_raster(input_raster_path, output_raster_path, new_pixel_size_x, new_pixel_size_y)"
   ]
  },
  {
   "cell_type": "code",
   "execution_count": null,
   "id": "8711cc10-f12b-4008-8bbb-820f90174059",
   "metadata": {},
   "outputs": [],
   "source": [
    "from osgeo import gdal\n",
    "\n",
    "# Define the input raster path at 1m resolution\n",
    "input_raster_path = \"/Users/led/Desktop/sampling_rasters/polys_brun.tif\"\n",
    "\n",
    "# Define the output raster path\n",
    "output_raster_path = \"/Users/led/Desktop/sampling_rasters/polys_brun_256.tif\"\n",
    "\n",
    "# Define the desired resolution in degrees (EPSG:4326)\n",
    "new_pixel_size_x = 0.033\n",
    "new_pixel_size_y = 0.02304\n",
    "\n",
    "# Open the input raster\n",
    "input_raster = gdal.Open(input_raster_path)\n",
    "\n",
    "# Get the original raster's geotransform and dimensions\n",
    "original_geotransform = input_raster.GetGeoTransform()\n",
    "original_width = input_raster.RasterXSize\n",
    "original_height = input_raster.RasterYSize\n",
    "\n",
    "# Compute the new dimensions based on the desired resolution\n",
    "new_width = int(original_width * original_geotransform[1] / new_pixel_size_x)\n",
    "new_height = int(original_height * abs(original_geotransform[5]) / new_pixel_size_y)\n",
    "\n",
    "# Create a new raster dataset with the desired resolution\n",
    "driver = gdal.GetDriverByName('GTiff')\n",
    "output_raster = driver.Create(\n",
    "    output_raster_path,\n",
    "    new_width,\n",
    "    new_height,\n",
    "    1,  # number of bands\n",
    "    gdal.GDT_Float32  # data type of the raster (change if needed)\n",
    ")\n",
    "\n",
    "# Compute the new geotransform\n",
    "new_geotransform = (\n",
    "    original_geotransform[0],\n",
    "    new_pixel_size_x,\n",
    "    original_geotransform[2],\n",
    "    original_geotransform[3],\n",
    "    original_geotransform[4],\n",
    "    -new_pixel_size_y\n",
    ")\n",
    "\n",
    "# Set the projection and geotransform of the new raster dataset\n",
    "output_raster.SetProjection(input_raster.GetProjection())\n",
    "output_raster.SetGeoTransform(new_geotransform)\n",
    "\n",
    "# Resample the input raster to match the new resolution\n",
    "gdal.ReprojectImage(\n",
    "    input_raster,\n",
    "    output_raster,\n",
    "    input_raster.GetProjection(),\n",
    "    input_raster.GetProjection(),\n",
    "    gdal.GRA_Sum\n",
    ")\n",
    "\n",
    "\n",
    "# Get the upsampled raster band\n",
    "output_band = output_raster.GetRasterBand(1)\n",
    "# Read the band values as an array\n",
    "output_array = output_band.ReadAsArray()\n",
    "\n",
    "# Normalize the values of the reprojected array to a range of 0-1\n",
    "min_value = output_array.min()\n",
    "max_value = output_array.max()\n",
    "normalized_array = (output_array - min_value) / (max_value - min_value)\n",
    "\n",
    "# Write the normalized array to the output raster band\n",
    "normalized_band = output_raster.GetRasterBand(1)\n",
    "normalized_band.WriteArray(normalized_array)\n",
    "\n",
    "    \n",
    "# Close the datasets\n",
    "output_raster = None\n",
    "input_raster = None"
   ]
  },
  {
   "cell_type": "code",
   "execution_count": null,
   "id": "b9d0d5d8-b3b1-4e63-bffe-441544f8f584",
   "metadata": {},
   "outputs": [],
   "source": []
  },
  {
   "cell_type": "markdown",
   "id": "2c00f2db-7814-43b9-8325-2e6227ddce93",
   "metadata": {},
   "source": [
    "# Sampling algorithm"
   ]
  },
  {
   "cell_type": "markdown",
   "id": "487d32c4-c6a8-4a3e-a356-310715ecca21",
   "metadata": {},
   "source": [
    "## 1. Sampling N scenes with drought positives\n",
    "Sample scene if forest >40% and ANY drought in 2.56km scene\n",
    "\n",
    "TO DO: check if forest and drought rasters aligned"
   ]
  },
  {
   "cell_type": "code",
   "execution_count": null,
   "id": "2482f81c-e294-49b7-bcf8-b54ddd656869",
   "metadata": {},
   "outputs": [],
   "source": [
    "from osgeo import gdal"
   ]
  },
  {
   "cell_type": "code",
   "execution_count": null,
   "id": "77eabc73-0742-48a8-9453-1a774ee2832e",
   "metadata": {},
   "outputs": [],
   "source": [
    "forest_mask_256 = '/Users/led/Desktop/sampling_rasters/test_raster_256_reproj.tif'\n",
    "drought_labels_256 = '/Users/led/Desktop/sampling_rasters/polys_brun_256.tif'"
   ]
  },
  {
   "cell_type": "code",
   "execution_count": null,
   "id": "8c4ac596-4f8b-4ee5-a768-52d610fab0ad",
   "metadata": {},
   "outputs": [],
   "source": [
    "# Define the output text file path\n",
    "output_file_path = '/Users/led/Desktop/coords_drought.txt'\n",
    "\n",
    "# Open the input raster\n",
    "forest_dataset = gdal.Open(forest_mask_256)\n",
    "drought_dataset = gdal.Open(drought_labels_256)\n",
    "\n",
    "# Get the raster bands\n",
    "forest_mask = forest_dataset.GetRasterBand(1)\n",
    "drought_mask = drought_dataset.GetRasterBand(1)\n",
    "\n",
    "# Read the band values as an array\n",
    "forest_array = forest_mask.ReadAsArray()\n",
    "drought_array = drought_mask.ReadAsArray()\n",
    "\n",
    "# Get the geotransform to calculate the coordinates\n",
    "geotransform = forest_array.GetGeoTransform()\n",
    "\n",
    "# Get the pixel size\n",
    "pixel_width = geotransform[1]\n",
    "pixel_height = geotransform[5]\n",
    "\n",
    "# Get the upper-left coordinate of the raster\n",
    "ulx = geotransform[0]\n",
    "uly = geotransform[3]\n",
    "\n",
    "# Open the output file for writing\n",
    "output_file = open(output_file_path, 'w')\n",
    "\n",
    "# Iterate over the array and write the coordinates of the pixels with values greater than 0.4 to the output file\n",
    "for row in range(forest_mask.YSize):\n",
    "    for col in range(forest_mask.XSize):\n",
    "        value_forest = forest_array[row][col]\n",
    "        value_drought = drought_array[row][col]\n",
    "        if value_forest > 0.4 and value_drought > 0:\n",
    "            # Calculate the center coordinates of the pixel\n",
    "            x = ulx + (col + 0.5) * pixel_width\n",
    "            y = uly + (row + 0.5) * pixel_height\n",
    "            output_file.write(\"{}, {}\\n\".format(x, y))\n",
    "\n",
    "# Close the output file\n",
    "output_file.close()\n",
    "\n",
    "# Close the dataset\n",
    "input_raster = None"
   ]
  },
  {
   "cell_type": "markdown",
   "id": "85cc8f16-d98e-43fe-bba8-831ac4a989c3",
   "metadata": {},
   "source": [
    "## Sampling N non-drought scenes\n",
    "- Split forest raster in 6 subregions\n",
    "- For each subregion, get randomly N/6 scenes in each subregions.\n",
    "- Sample scene if forest >40% in 2.56km scene, evenly across switzerland."
   ]
  },
  {
   "cell_type": "code",
   "execution_count": null,
   "id": "2dc0a69a-0f07-411c-9644-daaa510ac065",
   "metadata": {},
   "outputs": [],
   "source": [
    "from osgeo import gdal\n",
    "import random"
   ]
  },
  {
   "cell_type": "code",
   "execution_count": null,
   "id": "255ee615-3c87-4cba-a027-2444b3c07a88",
   "metadata": {},
   "outputs": [],
   "source": [
    "forest_mask_256 = '/Users/led/Desktop/sampling_rasters/test_raster_256_reproj.tif'\n",
    "drought_labels_256 = '/Users/led/Desktop/sampling_rasters/polys_brun_256.tif'"
   ]
  },
  {
   "cell_type": "code",
   "execution_count": null,
   "id": "84cca219-7416-4063-8f28-26362ce68ea8",
   "metadata": {},
   "outputs": [],
   "source": [
    "def get_coords_forest_drought_neg(forest_array, drought_array, thresh, ulx, uly, pixel_width, pixel_height):\n",
    "    \"\"\"\n",
    "    Get center coordinates of pixels on the mask whose value  >= thresh. \n",
    "    There are 2 rasters: forest mask and drought labels\n",
    "    \"\"\"\n",
    "    \n",
    "    coord_list = []\n",
    "    # Iterate over the array and write the coordinates of the pixels with values greater than 0.4 to the output file\n",
    "    for row in range(forest_array.shape[1]):\n",
    "        for col in range(forest_array.shape[0]):\n",
    "            value_forest = forest_array[row][col]\n",
    "            value_drought = drought_array[row][col]\n",
    "            if value_forest > 0.4 and value_drought == 0:\n",
    "                # Calculate the center coordinates of the pixel\n",
    "                x = ulx + (col + 0.5) * pixel_width\n",
    "                y = uly + (row + 0.5) * pixel_height\n",
    "                coord_list.append((x,y))\n",
    "    \n",
    "    return coord_list"
   ]
  },
  {
   "cell_type": "code",
   "execution_count": null,
   "id": "041b024a-33cc-41a4-a968-b3bc3ae0e029",
   "metadata": {},
   "outputs": [],
   "source": [
    "# Defined number of samples desired\n",
    "N = 100\n",
    "\n",
    "# Initialise the output file\n",
    "output_file = 'coords_sample_negative.txt'\n",
    "with open(output_file, 'w') as file:\n",
    "    pass\n",
    "\n",
    "# Open the raster file\n",
    "forest_dataset = gdal.Open(forest_mask_256)\n",
    "drought_dataset = gdal.Open(drought_labels_256)\n",
    "\n",
    "# Get the total width and height of the raster\n",
    "width = forest_dataset.RasterXSize\n",
    "height = forest_dataset.RasterYSize\n",
    "\n",
    "# Calculate the size of 1/6th of the raster\n",
    "segment_width = width // 3\n",
    "segment_height = height // 2\n",
    "\n",
    "# Get the geotransform to calculate the coordinates\n",
    "geotransform = forest_dataset.GetGeoTransform()\n",
    "\n",
    "# Get the pixel size\n",
    "pixel_width = geotransform[1]\n",
    "pixel_height = geotransform[5]\n",
    "\n",
    "# Get the upper-left coordinate of the raster\n",
    "ulx = geotransform[0]\n",
    "uly = geotransform[3]\n",
    "\n",
    "# Read and process 1/6th of the raster at a time\n",
    "for i in range(2):\n",
    "    for j in range(3):\n",
    "        # Calculate the starting position of the current section\n",
    "        start_x = i * segment_width\n",
    "        start_y = j * segment_height\n",
    "\n",
    "        # Read the section of the raster\n",
    "        forest_data = forest_dataset.ReadAsArray(start_x, start_y, segment_width, segment_height)\n",
    "        drought_data = drought_dataset.ReadAsArray(start_x, start_y, segment_width, segment_height)\n",
    "\n",
    "        # Get coordinates that satisfy condition\n",
    "        coord_list = get_coords_forest_drought_neg(forest_data, drought_data, thresh, ulx+start_x, uly+start_y, pixel_width, pixel_height)\n",
    "        # If more than enough, randomly pick N/6\n",
    "        if len(coord_list)>N/6:\n",
    "            coord_list = random.sample(coord_list, N/6)\n",
    "        \n",
    "        # Save to text file\n",
    "        with open(output_file, 'a') as file:\n",
    "            # Iterate over each element in the list\n",
    "            for item in my_list:\n",
    "                # Write the element to a new line in the file\n",
    "                file.write(str(item) + '\\n')\n",
    "        \n",
    "\n",
    "# Close the raster dataset\n",
    "dataset = None"
   ]
  }
 ],
 "metadata": {
  "kernelspec": {
   "display_name": "minicuber",
   "language": "python",
   "name": "minicuber"
  },
  "language_info": {
   "codemirror_mode": {
    "name": "ipython",
    "version": 3
   },
   "file_extension": ".py",
   "mimetype": "text/x-python",
   "name": "python",
   "nbconvert_exporter": "python",
   "pygments_lexer": "ipython3",
   "version": "3.10.10"
  }
 },
 "nbformat": 4,
 "nbformat_minor": 5
}
